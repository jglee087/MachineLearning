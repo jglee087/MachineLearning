{
 "cells": [
  {
   "cell_type": "markdown",
   "metadata": {},
   "source": [
    "# 3-2 Image Restoration with Gradient Descent"
   ]
  },
  {
   "cell_type": "code",
   "execution_count": null,
   "metadata": {},
   "outputs": [],
   "source": [
    "import torch\n",
    "import pickle\n",
    "import matplotlib.pyplot as plt"
   ]
  },
  {
   "cell_type": "code",
   "execution_count": null,
   "metadata": {},
   "outputs": [],
   "source": [
    "shp_original_img = (100, 100)\n",
    "broken_image =  torch.FloatTensor( pickle.load(open('./broken_image_t.p', 'rb'),encoding='latin1' ) )"
   ]
  },
  {
   "cell_type": "code",
   "execution_count": null,
   "metadata": {},
   "outputs": [],
   "source": [
    "plt.imshow(broken_image.view(100,100))"
   ]
  },
  {
   "cell_type": "code",
   "execution_count": null,
   "metadata": {},
   "outputs": [],
   "source": [
    "def weird_function(x, n_iter=5):\n",
    "    h = x    \n",
    "    filt = torch.tensor([-1./3, 1./3, -1./3])\n",
    "    for i in range(n_iter):\n",
    "        zero_tensor = torch.tensor([1.0*0])\n",
    "        h_l = torch.cat( (zero_tensor, h[:-1]), 0)\n",
    "        h_r = torch.cat((h[1:], zero_tensor), 0 )\n",
    "        h = filt[0] * h + filt[2] * h_l + filt[1] * h_r\n",
    "        if i % 2 == 0:\n",
    "            h = torch.cat( (h[h.shape[0]//2:],h[:h.shape[0]//2]), 0  )\n",
    "    return h"
   ]
  },
  {
   "cell_type": "code",
   "execution_count": null,
   "metadata": {},
   "outputs": [],
   "source": [
    "def distance_loss(hypothesis, broken_image):    \n",
    "    return torch.dist(hypothesis, broken_image)"
   ]
  },
  {
   "cell_type": "code",
   "execution_count": null,
   "metadata": {},
   "outputs": [],
   "source": [
    "random_tensor = torch.randn(10000, dtype = torch.float)"
   ]
  },
  {
   "cell_type": "code",
   "execution_count": null,
   "metadata": {},
   "outputs": [],
   "source": [
    "lr = 0.01\n",
    "for i in range(0,20000):\n",
    "    random_tensor.requires_grad_(True)\n",
    "    hypothesis = weird_function(random_tensor)\n",
    "    loss = distance_loss(hypothesis, broken_image)\n",
    "    loss.backward()\n",
    "    with torch.no_grad():\n",
    "        random_tensor = random_tensor - lr*random_tensor.grad\n",
    "    if i % 1000 == 0:\n",
    "        print('Loss at {} = {}'.format(i, loss.item()))"
   ]
  },
  {
   "cell_type": "code",
   "execution_count": null,
   "metadata": {},
   "outputs": [],
   "source": [
    "plt.imshow(random_tensor.view(100,100).data)"
   ]
  },
  {
   "cell_type": "code",
   "execution_count": null,
   "metadata": {},
   "outputs": [],
   "source": []
  }
 ],
 "metadata": {
  "kernelspec": {
   "display_name": "Python 3",
   "language": "python",
   "name": "python3"
  },
  "language_info": {
   "codemirror_mode": {
    "name": "ipython",
    "version": 3
   },
   "file_extension": ".py",
   "mimetype": "text/x-python",
   "name": "python",
   "nbconvert_exporter": "python",
   "pygments_lexer": "ipython3",
   "version": "3.7.4"
  }
 },
 "nbformat": 4,
 "nbformat_minor": 2
}
