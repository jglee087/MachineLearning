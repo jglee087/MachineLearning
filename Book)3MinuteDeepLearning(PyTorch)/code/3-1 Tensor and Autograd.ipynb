{
 "cells": [
  {
   "cell_type": "markdown",
   "metadata": {},
   "source": [
    "# 3.1 Tensor and Autograd"
   ]
  },
  {
   "cell_type": "markdown",
   "metadata": {},
   "source": [
    "## 3.1.1 Tensor"
   ]
  },
  {
   "cell_type": "code",
   "execution_count": null,
   "metadata": {},
   "outputs": [],
   "source": [
    "import torch\n",
    "\n",
    "x=torch.tensor([ [1,2,3,], [4,5,6,], [7,8,9,]])\n",
    "print(x)\n",
    "print(\"Size:\",x.size())\n",
    "print(\"Shape:\",x.shape)\n",
    "print(\"Rank:\",x.ndimension())"
   ]
  },
  {
   "cell_type": "code",
   "execution_count": null,
   "metadata": {},
   "outputs": [],
   "source": [
    "x = torch.unsqueeze(x,0)\n",
    "print(x)\n",
    "print(\"Size:\",x.size())\n",
    "print(\"Shape:\",x.shape)\n",
    "print(\"Rank:\",x.ndimension())"
   ]
  },
  {
   "cell_type": "code",
   "execution_count": null,
   "metadata": {},
   "outputs": [],
   "source": [
    "x= torch.squeeze(x)\n",
    "print(x)\n",
    "print(\"Size:\",x.size())\n",
    "print(\"Shape:\",x.shape)\n",
    "print(\"Rank:\",x.ndimension())"
   ]
  },
  {
   "cell_type": "code",
   "execution_count": null,
   "metadata": {},
   "outputs": [],
   "source": [
    "x=x.view(9)\n",
    "print(x)\n",
    "print(\"Size:\",x.size())\n",
    "print(\"Shape:\",x.shape)\n",
    "print(\"Rank:\",x.ndimension())"
   ]
  },
  {
   "cell_type": "markdown",
   "metadata": {},
   "source": [
    "## 3.1.2 Matrix Operation"
   ]
  },
  {
   "cell_type": "code",
   "execution_count": null,
   "metadata": {},
   "outputs": [],
   "source": [
    "import torch\n",
    "\n",
    "w=torch.rand(4,2, dtype=torch.float)\n",
    "x=torch.tensor([[1.,2.], [3.,4.]])\n",
    "print(\"w size:\", w.size())\n",
    "print(\"x size:\", x.size())\n",
    "print(\"w:\", w)\n",
    "print(\"x:\", x)"
   ]
  },
  {
   "cell_type": "code",
   "execution_count": null,
   "metadata": {},
   "outputs": [],
   "source": [
    "b= torch.randn(4,2, dtype=torch.float)\n",
    "print(\"b size:\",b.size())\n",
    "print(\"b:\", b)"
   ]
  },
  {
   "cell_type": "code",
   "execution_count": null,
   "metadata": {},
   "outputs": [],
   "source": [
    "wx = torch.mm(w,x)\n",
    "print(\"wx size:\", wx.size())\n",
    "print(\"wx:\", wx)"
   ]
  },
  {
   "cell_type": "code",
   "execution_count": null,
   "metadata": {},
   "outputs": [],
   "source": [
    "res = wx+b\n",
    "print(\"res size:\",res.size())\n",
    "print(\"res:\", res)"
   ]
  },
  {
   "cell_type": "markdown",
   "metadata": {},
   "source": [
    "## 3.1.3 Autograd"
   ]
  },
  {
   "cell_type": "code",
   "execution_count": null,
   "metadata": {},
   "outputs": [],
   "source": [
    "import torch\n",
    "\n",
    "w = torch.tensor(2. , requires_grad=True)\n",
    "a = 3*w\n",
    "l = a**2\n",
    "l.backward()\n",
    "print('l을 w로 미분한 값은 {}'.format(w.grad))"
   ]
  }
 ],
 "metadata": {
  "kernelspec": {
   "display_name": "Python 3",
   "language": "python",
   "name": "python3"
  },
  "language_info": {
   "codemirror_mode": {
    "name": "ipython",
    "version": 3
   },
   "file_extension": ".py",
   "mimetype": "text/x-python",
   "name": "python",
   "nbconvert_exporter": "python",
   "pygments_lexer": "ipython3",
   "version": "3.7.4"
  }
 },
 "nbformat": 4,
 "nbformat_minor": 2
}
