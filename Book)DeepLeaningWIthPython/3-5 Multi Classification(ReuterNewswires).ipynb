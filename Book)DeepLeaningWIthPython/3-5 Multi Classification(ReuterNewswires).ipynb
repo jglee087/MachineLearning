{
 "cells": [
  {
   "cell_type": "markdown",
   "metadata": {},
   "source": [
    "# Multi Classification Problem"
   ]
  },
  {
   "cell_type": "markdown",
   "metadata": {},
   "source": [
    "### 뉴스 기사 분류\n",
    "\n",
    "이 절에서 로이터 뉴스를 46개의 서로 다른 토픽으로 분류하는 신경망을 만들어 보자. 클래스가 많기 때문에 이 문제는 다중 분류의 예이다. 각 데이터 포인트가 정확히 하나의 범주로 분류되기 때문에 정확히 말하면 **단일 레이블 다중 분류 문제**이다. "
   ]
  },
  {
   "cell_type": "markdown",
   "metadata": {},
   "source": [
    "## 로이터 데이터셋\n",
    "\n",
    "1986년에 로이터에서 공개한 짧은 뉴스 기사와 토픽의 집합인 로이터 데이터셋을 사용하겠습니다. 이 데이터셋은 텍스트 분류를 위해 널리 사용되는 간단한 데이터셋입니다. 46개의 토픽이 있으며 어떤 토픽은 다른 것에 비해 데이터가 많습니다. 각 토픽은 훈련 세트에 최소한 10개의 샘플을 가지고 있습니다."
   ]
  },
  {
   "cell_type": "code",
   "execution_count": 1,
   "metadata": {},
   "outputs": [
    {
     "name": "stderr",
     "output_type": "stream",
     "text": [
      "Using TensorFlow backend.\n"
     ]
    }
   ],
   "source": [
    "from keras.datasets import reuters\n",
    "\n",
    "(train_data, train_labels), (test_data, test_labels) = reuters.load_data(num_words=10000)"
   ]
  },
  {
   "cell_type": "markdown",
   "metadata": {},
   "source": [
    "IMDB 데이터셋에서처럼 num_words=10000 매개변수는 데이터에서 **등장하는 단어 10,000개**로 제한합니다.\n",
    "\n",
    "여기에는 8,982개의 훈련 샘플과 2,246개의 테스트 샘플이 있습니다:"
   ]
  },
  {
   "cell_type": "code",
   "execution_count": 2,
   "metadata": {},
   "outputs": [
    {
     "name": "stdout",
     "output_type": "stream",
     "text": [
      "8982 2246\n"
     ]
    }
   ],
   "source": [
    "print(len(train_data),len(test_data))"
   ]
  },
  {
   "cell_type": "markdown",
   "metadata": {},
   "source": [
    "IMDB 리뷰처럼 각 샘플은 정수 리스트입니다(단어 인덱스):"
   ]
  },
  {
   "cell_type": "code",
   "execution_count": 3,
   "metadata": {},
   "outputs": [
    {
     "name": "stdout",
     "output_type": "stream",
     "text": [
      "[1, 245, 273, 207, 156, 53, 74, 160, 26, 14, 46, 296, 26, 39, 74, 2979, 3554, 14, 46, 4689, 4329, 86, 61, 3499, 4795, 14, 61, 451, 4329, 17, 12]\n"
     ]
    }
   ],
   "source": [
    "print(train_data[10],sep=' ')"
   ]
  },
  {
   "cell_type": "markdown",
   "metadata": {},
   "source": [
    "샘플에 연결된 레이블은 토픽의 인덱스는 0과 45 사이의 정수이다."
   ]
  },
  {
   "cell_type": "code",
   "execution_count": 4,
   "metadata": {},
   "outputs": [
    {
     "data": {
      "text/plain": [
       "3"
      ]
     },
     "execution_count": 4,
     "metadata": {},
     "output_type": "execute_result"
    }
   ],
   "source": [
    "train_labels[10]"
   ]
  },
  {
   "cell_type": "markdown",
   "metadata": {},
   "source": [
    "## 데이터 준비\n",
    "\n",
    "이전의 예제와 동일한 코드를 사용해서 데이터를 벡터로 변환합니다:"
   ]
  },
  {
   "cell_type": "code",
   "execution_count": 5,
   "metadata": {},
   "outputs": [],
   "source": [
    "import numpy as np\n",
    "\n",
    "def vectorize_sequences(sequences, dimension=10000):\n",
    "    results = np.zeros((len(sequences), dimension))\n",
    "    for i, sequence in enumerate(sequences):\n",
    "        results[i, sequence] = 1.\n",
    "    return results\n",
    "\n",
    "# 훈련 데이터 벡터 변환\n",
    "x_train = vectorize_sequences(train_data)\n",
    "\n",
    "# 테스트 데이터 벡터 변환\n",
    "x_test = vectorize_sequences(test_data)"
   ]
  },
  {
   "cell_type": "markdown",
   "metadata": {},
   "source": [
    "레이블을 벡터로 바꾸는 방법은 두 가지입니다. \n",
    "1. 레이블의 리스트를 정수 텐서로 변환하는 것\n",
    "2. **원-핫 인코딩**을 사용한다. 원-핫 인코딩이 범주형 데이터에 널리 사용되기 때문에 범주형 인코딩이라고 한다. 레이블의 원-핫 인코딩은 각 레이블의 인덱스 자리는 1이고 그 외 나머지는 모두 0인 벡터이다."
   ]
  },
  {
   "cell_type": "code",
   "execution_count": 6,
   "metadata": {},
   "outputs": [],
   "source": [
    "from keras.utils.np_utils import to_categorical\n",
    "\n",
    "train_labels = to_categorical(train_labels)\n",
    "test_labels = to_categorical(test_labels)"
   ]
  },
  {
   "cell_type": "markdown",
   "metadata": {},
   "source": [
    "## 모델 구성\n",
    "\n",
    "이 토픽 분류 문제는 이전의 영화 리뷰 분류 문제와 비슷하다. 두 경우 모두 짧은 텍스트를 분류하는 것이다. 여기서 새로운 사항이 생겼다. 출력 클래스의 개수가 2에서 46개로 늘어난 점입니다. 출력 공간의 차원이 훨씬 커졌습니다.\n",
    "\n",
    "이전에 사용했던 것처럼 `Dense` 층을 쌓으면 각 층은 이전 층의 출력에서 제공한 정보만 사용할 수 있습니다. 한 층이 분류 문제에 필요한 일부 정보를 누락하면 그 다음 층에서 이를 복원할 방법이 없습니다. 각 층은 잠재적으로 정보의 병목이 될 수 있다. 이전 예제에서 16차원을 가진 중간층을 사용했지만 16차원 공간은 46개의 클래스를 구분하기에 너무 제약이 많아 보인다. 이렇게 규모가 작은 층은 유용한 정보를 완전히 잃게 되는 정보의 **병목 지점**처럼 동작할 수 있으므로 규모가 큰 층을 사용해야 한다."
   ]
  },
  {
   "cell_type": "code",
   "execution_count": 7,
   "metadata": {},
   "outputs": [
    {
     "name": "stdout",
     "output_type": "stream",
     "text": [
      "WARNING:tensorflow:From C:\\Users\\jungg\\Anaconda3\\lib\\site-packages\\tensorflow\\python\\ops\\resource_variable_ops.py:435: colocate_with (from tensorflow.python.framework.ops) is deprecated and will be removed in a future version.\n",
      "Instructions for updating:\n",
      "Colocations handled automatically by placer.\n"
     ]
    }
   ],
   "source": [
    "from keras import models\n",
    "from keras import layers\n",
    "\n",
    "model = models.Sequential()\n",
    "model.add(layers.Dense(64, activation='relu', input_shape=(10000,)))\n",
    "model.add(layers.Dense(64, activation='relu'))\n",
    "model.add(layers.Dense(46, activation='softmax'))"
   ]
  },
  {
   "cell_type": "markdown",
   "metadata": {},
   "source": [
    "이 구조에서 주목해야 할 점이 두 가지 있습니다:\n",
    "\n",
    "* **마지막 `Dense` 층의 크기가 46**입니다. 각 입력 샘플에 대해서 46차원의 벡터를 출력한다는 뜻입니다. 이 벡터의 각 원소(각 차원)은 각기 다른 출력 클래스가 인코딩한 것이다.\n",
    "* 마지막 층에 `softmax` 활성화 함수가 사용되었다. MNIST 예제에서 이런 방식을 보았다. 각 입력 샘플마다 46개의 출력 클래스에 대한 확률 분포를 출력한다. 즉, 46차원의 출력 벡터를 만들고 `output[i]`는 어떤 샘플이 클래스 `i`에 속할 확률입니다. 46개의 값을 모두 더하면 1이 된다.\n",
    "\n",
    "이런 문제에 사용할 최선의 손실 함수는 **`categorical_crossentropy`**이다. 이 함수는 두 확률 분포의 사이의 거리를 측정한다. 여기에서는 네트워크가 출력한 확률 분포와 진짜 레이블의 분포 사이의 거리로 두 분포 사이의 거리를 최소화하면 진짜 레이블에 가능한 가까운 출력을 내도록 모델을 훈련하게 된다."
   ]
  },
  {
   "cell_type": "code",
   "execution_count": 8,
   "metadata": {},
   "outputs": [],
   "source": [
    "model.compile(optimizer='rmsprop', loss='categorical_crossentropy', metrics=['accuracy'])"
   ]
  },
  {
   "cell_type": "markdown",
   "metadata": {},
   "source": [
    "## 훈련 검증\n"
   ]
  },
  {
   "cell_type": "code",
   "execution_count": 9,
   "metadata": {},
   "outputs": [],
   "source": [
    "y_train = train_labels\n",
    "from sklearn.model_selection import train_test_split\n",
    "x_train, x_val, y_train, y_val = train_test_split(x_train, y_train, train_size=0.85) "
   ]
  },
  {
   "cell_type": "markdown",
   "metadata": {},
   "source": [
    "이제 20번의 에포크로 모델을 훈련하자."
   ]
  },
  {
   "cell_type": "code",
   "execution_count": 10,
   "metadata": {
    "scrolled": false
   },
   "outputs": [
    {
     "name": "stdout",
     "output_type": "stream",
     "text": [
      "WARNING:tensorflow:From C:\\Users\\jungg\\Anaconda3\\lib\\site-packages\\tensorflow\\python\\ops\\math_ops.py:3066: to_int32 (from tensorflow.python.ops.math_ops) is deprecated and will be removed in a future version.\n",
      "Instructions for updating:\n",
      "Use tf.cast instead.\n",
      "Train on 7634 samples, validate on 1348 samples\n",
      "Epoch 1/20\n",
      "7634/7634 [==============================] - 1s 180us/step - loss: 2.7685 - accuracy: 0.5077 - val_loss: 1.8954 - val_accuracy: 0.6395\n",
      "Epoch 2/20\n",
      "7634/7634 [==============================] - 1s 173us/step - loss: 1.5266 - accuracy: 0.6954 - val_loss: 1.4032 - val_accuracy: 0.7062\n",
      "Epoch 3/20\n",
      "7634/7634 [==============================] - 1s 186us/step - loss: 1.1246 - accuracy: 0.7685 - val_loss: 1.2077 - val_accuracy: 0.7292\n",
      "Epoch 4/20\n",
      "7634/7634 [==============================] - 1s 169us/step - loss: 0.8870 - accuracy: 0.8131 - val_loss: 1.0947 - val_accuracy: 0.7559\n",
      "Epoch 5/20\n",
      "7634/7634 [==============================] - 1s 162us/step - loss: 0.7081 - accuracy: 0.8516 - val_loss: 1.0220 - val_accuracy: 0.7737\n",
      "Epoch 6/20\n",
      "7634/7634 [==============================] - 1s 162us/step - loss: 0.5698 - accuracy: 0.8839 - val_loss: 0.9709 - val_accuracy: 0.7819\n",
      "Epoch 7/20\n",
      "7634/7634 [==============================] - 1s 163us/step - loss: 0.4592 - accuracy: 0.9076 - val_loss: 0.9345 - val_accuracy: 0.7908\n",
      "Epoch 8/20\n",
      "7634/7634 [==============================] - 1s 169us/step - loss: 0.3685 - accuracy: 0.9255 - val_loss: 0.9230 - val_accuracy: 0.7915\n",
      "Epoch 9/20\n",
      "7634/7634 [==============================] - 1s 171us/step - loss: 0.3053 - accuracy: 0.9374 - val_loss: 0.9502 - val_accuracy: 0.7915\n",
      "Epoch 10/20\n",
      "7634/7634 [==============================] - 1s 166us/step - loss: 0.2546 - accuracy: 0.9441 - val_loss: 0.9401 - val_accuracy: 0.7997\n",
      "Epoch 11/20\n",
      "7634/7634 [==============================] - 1s 165us/step - loss: 0.2180 - accuracy: 0.9484 - val_loss: 0.9511 - val_accuracy: 0.8064\n",
      "Epoch 12/20\n",
      "7634/7634 [==============================] - 1s 166us/step - loss: 0.1887 - accuracy: 0.9531 - val_loss: 0.9704 - val_accuracy: 0.8027\n",
      "Epoch 13/20\n",
      "7634/7634 [==============================] - 1s 167us/step - loss: 0.1689 - accuracy: 0.9561 - val_loss: 0.9572 - val_accuracy: 0.8056\n",
      "Epoch 14/20\n",
      "7634/7634 [==============================] - 1s 167us/step - loss: 0.1493 - accuracy: 0.9590 - val_loss: 0.9947 - val_accuracy: 0.7997\n",
      "Epoch 15/20\n",
      "7634/7634 [==============================] - 1s 167us/step - loss: 0.1418 - accuracy: 0.9581 - val_loss: 0.9865 - val_accuracy: 0.8049\n",
      "Epoch 16/20\n",
      "7634/7634 [==============================] - 1s 166us/step - loss: 0.1340 - accuracy: 0.9559 - val_loss: 1.0255 - val_accuracy: 0.7997\n",
      "Epoch 17/20\n",
      "7634/7634 [==============================] - 1s 164us/step - loss: 0.1242 - accuracy: 0.9586 - val_loss: 1.0372 - val_accuracy: 0.8012\n",
      "Epoch 18/20\n",
      "7634/7634 [==============================] - 1s 165us/step - loss: 0.1143 - accuracy: 0.9598 - val_loss: 1.0699 - val_accuracy: 0.7864\n",
      "Epoch 19/20\n",
      "7634/7634 [==============================] - 1s 171us/step - loss: 0.1167 - accuracy: 0.9590 - val_loss: 1.1248 - val_accuracy: 0.7915\n",
      "Epoch 20/20\n",
      "7634/7634 [==============================] - 1s 167us/step - loss: 0.1072 - accuracy: 0.9590 - val_loss: 1.0647 - val_accuracy: 0.8079\n"
     ]
    }
   ],
   "source": [
    "history = model.fit(x_train, y_train, epochs=20, batch_size=512, validation_data=(x_val, y_val))"
   ]
  },
  {
   "cell_type": "markdown",
   "metadata": {},
   "source": [
    "손실과 정확도 곡선을 살펴보자."
   ]
  },
  {
   "cell_type": "code",
   "execution_count": 11,
   "metadata": {},
   "outputs": [],
   "source": [
    "import matplotlib.pyplot as plt"
   ]
  },
  {
   "cell_type": "code",
   "execution_count": 12,
   "metadata": {},
   "outputs": [
    {
     "data": {
      "image/png": "[encoded data removed]",
      "text/plain": [
       "<Figure size 432x288 with 1 Axes>"
      ]
     },
     "metadata": {
      "needs_background": "light"
     },
     "output_type": "display_data"
    }
   ],
   "source": [
    "loss = history.history['loss']\n",
    "val_loss = history.history['val_loss']\n",
    "\n",
    "epochs = range(1, len(loss) + 1)\n",
    "\n",
    "plt.plot(epochs, loss, 'bo', label='Training loss')\n",
    "plt.plot(epochs, val_loss, 'b', label='Validation loss')\n",
    "plt.title('Training and validation loss')\n",
    "plt.xlabel('Epochs')\n",
    "plt.ylabel('Loss')\n",
    "plt.legend()\n",
    "\n",
    "plt.show()"
   ]
  },
  {
   "cell_type": "code",
   "execution_count": 13,
   "metadata": {},
   "outputs": [
    {
     "data": {
      "image/png": "[encoded data removed]",
      "text/plain": [
       "<Figure size 432x288 with 1 Axes>"
      ]
     },
     "metadata": {
      "needs_background": "light"
     },
     "output_type": "display_data"
    }
   ],
   "source": [
    "plt.clf()   # 그래프를 초기화합니다\n",
    "\n",
    "acc = history.history['accuracy']\n",
    "val_acc = history.history['val_accuracy']\n",
    "\n",
    "plt.plot(epochs, acc, 'bo', label='Training acc')\n",
    "plt.plot(epochs, val_acc, 'b', label='Validation acc')\n",
    "plt.title('Training and validation accuracy')\n",
    "plt.xlabel('Epochs')\n",
    "plt.ylabel('Accuracy')\n",
    "plt.legend()\n",
    "\n",
    "plt.show()"
   ]
  },
  {
   "cell_type": "markdown",
   "metadata": {},
   "source": [
    "이 모델은 3번째 epochs 이후에 과대적합이 시작된다. 3번의 에포크로 새로운 모델을 훈련하고 테스트 세트에서 평가해보자."
   ]
  },
  {
   "cell_type": "code",
   "execution_count": 16,
   "metadata": {},
   "outputs": [
    {
     "name": "stdout",
     "output_type": "stream",
     "text": [
      "Train on 7634 samples, validate on 1348 samples\n",
      "Epoch 1/3\n",
      "7634/7634 [==============================] - 1s 190us/step - loss: 2.7118 - accuracy: 0.4781 - val_loss: 1.7834 - val_accuracy: 0.6395\n",
      "Epoch 2/3\n",
      "7634/7634 [==============================] - 1s 172us/step - loss: 1.4450 - accuracy: 0.6956 - val_loss: 1.3467 - val_accuracy: 0.6973\n",
      "Epoch 3/3\n",
      "7634/7634 [==============================] - 1s 190us/step - loss: 1.0621 - accuracy: 0.7729 - val_loss: 1.2155 - val_accuracy: 0.7366\n",
      "2246/2246 [==============================] - 1s 224us/step\n"
     ]
    }
   ],
   "source": [
    "model = models.Sequential()\n",
    "model.add(layers.Dense(64, activation='relu', input_shape=(10000,)))\n",
    "model.add(layers.Dense(64, activation='relu'))\n",
    "model.add(layers.Dense(46, activation='softmax'))\n",
    "\n",
    "model.compile(optimizer='rmsprop', loss='categorical_crossentropy',  metrics=['accuracy'])\n",
    "model.fit(x_train, y_train, epochs=3, batch_size=512, validation_data=(x_val, y_val))\n",
    "results = model.evaluate(x_test, test_labels)"
   ]
  },
  {
   "cell_type": "code",
   "execution_count": 15,
   "metadata": {},
   "outputs": [
    {
     "data": {
      "text/plain": [
       "[1.2055838347967458, 0.7359750866889954]"
      ]
     },
     "execution_count": 15,
     "metadata": {},
     "output_type": "execute_result"
    }
   ],
   "source": [
    "results"
   ]
  },
  {
   "cell_type": "markdown",
   "metadata": {},
   "source": [
    "대략 73.5%의 정확도를 달성했다. 균형 잡힌 이진 분류 문제에서 완전히 무작위로 분류하면 50%의 정확도를 달성한다. 이 문제는 불균형한 데이터셋을 사용하므로 무작위로 분류하면 13.5% 정도를 달성할 수 있다. "
   ]
  },
  {
   "cell_type": "code",
   "execution_count": 17,
   "metadata": {},
   "outputs": [
    {
     "data": {
      "text/plain": [
       "44.36420302760463"
      ]
     },
     "execution_count": 17,
     "metadata": {},
     "output_type": "execute_result"
    }
   ],
   "source": [
    "import copy\n",
    "\n",
    "test_labels_copy = copy.copy(test_labels)\n",
    "np.random.shuffle(test_labels_copy)\n",
    "float(np.sum(np.array(test_labels) == np.array(test_labels_copy))) / len(test_labels)"
   ]
  },
  {
   "cell_type": "markdown",
   "metadata": {},
   "source": [
    "## 새로운 데이터에 대해 예측하기\n",
    "\n",
    "모델 인스턴스의 `predict` 메서드는 46개 토픽에 대한 확률 분포를 반환합니다. 테스트 데이터 전체에 대한 토픽을 예측해 보겠습니다:"
   ]
  },
  {
   "cell_type": "code",
   "execution_count": 18,
   "metadata": {},
   "outputs": [],
   "source": [
    "predictions = model.predict(x_test)"
   ]
  },
  {
   "cell_type": "markdown",
   "metadata": {},
   "source": [
    "`predictions`의 각 항목은 길이가 46인 벡터입니다:"
   ]
  },
  {
   "cell_type": "code",
   "execution_count": 19,
   "metadata": {},
   "outputs": [
    {
     "data": {
      "text/plain": [
       "(46,)"
      ]
     },
     "execution_count": 19,
     "metadata": {},
     "output_type": "execute_result"
    }
   ],
   "source": [
    "predictions[0].shape"
   ]
  },
  {
   "cell_type": "markdown",
   "metadata": {},
   "source": [
    "이 벡터의 원소 합은 1입니다:"
   ]
  },
  {
   "cell_type": "code",
   "execution_count": 20,
   "metadata": {},
   "outputs": [
    {
     "data": {
      "text/plain": [
       "1.0"
      ]
     },
     "execution_count": 20,
     "metadata": {},
     "output_type": "execute_result"
    }
   ],
   "source": [
    "np.sum(predictions[0])"
   ]
  },
  {
   "cell_type": "markdown",
   "metadata": {},
   "source": [
    "가장 큰 값이 예측 클래스가 됩니다. 즉, 가장 확률이 높은 클래스입니다:"
   ]
  },
  {
   "cell_type": "code",
   "execution_count": 21,
   "metadata": {},
   "outputs": [
    {
     "data": {
      "text/plain": [
       "4"
      ]
     },
     "execution_count": 21,
     "metadata": {},
     "output_type": "execute_result"
    }
   ],
   "source": [
    "np.argmax(predictions[0])"
   ]
  },
  {
   "cell_type": "markdown",
   "metadata": {},
   "source": [
    "## 레이블과 손실을 다루는 다른 방법\n",
    "\n",
    "앞서 언급한 것처럼 레이블을 인코딩하는 다른 방법은 다음과 같이 정수 텐서로 변환하는 것입니다:"
   ]
  },
  {
   "cell_type": "code",
   "execution_count": 22,
   "metadata": {},
   "outputs": [],
   "source": [
    "#y_train = np.array(train_labels)\n",
    "#y_test = np.array(test_labels)"
   ]
  },
  {
   "cell_type": "markdown",
   "metadata": {},
   "source": [
    "이 방식을 사용하려면 손실 함수 하나만 바꾸면 됩니다. 코드 3-21에 사용된 손실 함수 `categorical_crossentropy`는 레이블이 범주형 인코딩되어 있을 것이라고 기대합니다. 정수 레이블을 사용할 때는 `sparse_categorical_crossentropy`를 사용해야 합니다:"
   ]
  },
  {
   "cell_type": "code",
   "execution_count": 23,
   "metadata": {},
   "outputs": [],
   "source": [
    "# model.compile(optimizer='rmsprop', loss='sparse_categorical_crossentropy', metrics=['acc'])"
   ]
  },
  {
   "cell_type": "markdown",
   "metadata": {},
   "source": [
    "이 손실 함수는 인터페이스만 다를 뿐이고 수학적으로는 `categorical_crossentropy`와 동일합니다."
   ]
  },
  {
   "cell_type": "markdown",
   "metadata": {},
   "source": [
    "## 충분히 큰 중간층을 두어야 하는 이유\n",
    "\n",
    "앞서 언급한 것처럼 마지막 출력이 46차원이기 때문에 중간층의 히든 유닛이 46개보다 많이 적어서는 안 된다. 46차원보다 훨씬 작은 중간층을 두면 정보의 병목현상을 보자."
   ]
  },
  {
   "cell_type": "code",
   "execution_count": 24,
   "metadata": {},
   "outputs": [
    {
     "name": "stdout",
     "output_type": "stream",
     "text": [
      "Train on 7634 samples, validate on 1348 samples\n",
      "Epoch 1/20\n",
      "7634/7634 [==============================] - 2s 286us/step - loss: 2.7713 - accuracy: 0.4361 - val_loss: 1.9825 - val_accuracy: 0.6165\n",
      "Epoch 2/20\n",
      "7634/7634 [==============================] - 2s 271us/step - loss: 1.6546 - accuracy: 0.6365 - val_loss: 1.5590 - val_accuracy: 0.6461\n",
      "Epoch 3/20\n",
      "7634/7634 [==============================] - 2s 276us/step - loss: 1.3394 - accuracy: 0.6861 - val_loss: 1.4311 - val_accuracy: 0.6662\n",
      "Epoch 4/20\n",
      "7634/7634 [==============================] - 2s 270us/step - loss: 1.1648 - accuracy: 0.7193 - val_loss: 1.3960 - val_accuracy: 0.6691\n",
      "Epoch 5/20\n",
      "7634/7634 [==============================] - 2s 276us/step - loss: 1.0371 - accuracy: 0.7429 - val_loss: 1.3418 - val_accuracy: 0.6847\n",
      "Epoch 6/20\n",
      "7634/7634 [==============================] - 2s 280us/step - loss: 0.9347 - accuracy: 0.7587 - val_loss: 1.3468 - val_accuracy: 0.6847\n",
      "Epoch 7/20\n",
      "7634/7634 [==============================] - 2s 279us/step - loss: 0.8449 - accuracy: 0.7700 - val_loss: 1.3506 - val_accuracy: 0.6832\n",
      "Epoch 8/20\n",
      "7634/7634 [==============================] - 2s 286us/step - loss: 0.7685 - accuracy: 0.7974 - val_loss: 1.3763 - val_accuracy: 0.7040\n",
      "Epoch 9/20\n",
      "7634/7634 [==============================] - 2s 278us/step - loss: 0.7072 - accuracy: 0.8131 - val_loss: 1.4115 - val_accuracy: 0.7070\n",
      "Epoch 10/20\n",
      "7634/7634 [==============================] - 2s 291us/step - loss: 0.6576 - accuracy: 0.8215 - val_loss: 1.4105 - val_accuracy: 0.7114\n",
      "Epoch 11/20\n",
      "7634/7634 [==============================] - 2s 303us/step - loss: 0.6133 - accuracy: 0.8326 - val_loss: 1.4644 - val_accuracy: 0.7151\n",
      "Epoch 12/20\n",
      "7634/7634 [==============================] - 2s 255us/step - loss: 0.5800 - accuracy: 0.8364 - val_loss: 1.5421 - val_accuracy: 0.7188\n",
      "Epoch 13/20\n",
      "7634/7634 [==============================] - 2s 248us/step - loss: 0.5484 - accuracy: 0.8419 - val_loss: 1.5600 - val_accuracy: 0.7092\n",
      "Epoch 14/20\n",
      "7634/7634 [==============================] - 2s 251us/step - loss: 0.5258 - accuracy: 0.8442 - val_loss: 1.6008 - val_accuracy: 0.7181\n",
      "Epoch 15/20\n",
      "7634/7634 [==============================] - 2s 261us/step - loss: 0.5026 - accuracy: 0.8501 - val_loss: 1.6598 - val_accuracy: 0.7188\n",
      "Epoch 16/20\n",
      "7634/7634 [==============================] - 2s 260us/step - loss: 0.4835 - accuracy: 0.8538 - val_loss: 1.6766 - val_accuracy: 0.7122\n",
      "Epoch 17/20\n",
      "7634/7634 [==============================] - 2s 272us/step - loss: 0.4666 - accuracy: 0.8580 - val_loss: 1.7132 - val_accuracy: 0.7114\n",
      "Epoch 18/20\n",
      "7634/7634 [==============================] - 2s 266us/step - loss: 0.4513 - accuracy: 0.8619 - val_loss: 1.7667 - val_accuracy: 0.7092\n",
      "Epoch 19/20\n",
      "7634/7634 [==============================] - 2s 272us/step - loss: 0.4374 - accuracy: 0.8646 - val_loss: 1.8425 - val_accuracy: 0.7033\n",
      "Epoch 20/20\n",
      "7634/7634 [==============================] - 2s 268us/step - loss: 0.4244 - accuracy: 0.8664 - val_loss: 1.8630 - val_accuracy: 0.7077\n"
     ]
    },
    {
     "data": {
      "text/plain": [
       "<keras.callbacks.callbacks.History at 0x18c034f50c8>"
      ]
     },
     "execution_count": 24,
     "metadata": {},
     "output_type": "execute_result"
    }
   ],
   "source": [
    "model = models.Sequential()\n",
    "model.add(layers.Dense(64, activation='relu', input_shape=(10000,)))\n",
    "model.add(layers.Dense(4, activation='relu'))\n",
    "model.add(layers.Dense(46, activation='softmax'))\n",
    "\n",
    "model.compile(optimizer='rmsprop', loss='categorical_crossentropy',  metrics=['accuracy'])\n",
    "model.fit(x_train, y_train, epochs=20, batch_size=128, validation_data=(x_val, y_val))"
   ]
  },
  {
   "cell_type": "markdown",
   "metadata": {},
   "source": [
    "검증 정확도의 최고 값은 약 70.7%로 0.8% 정도 감소되었다. 이런 손실의 대부분 원인은 많은 정보(46개 클래스의 분할 초평면을 복원하기에 충분한 정보)를 중간층의 저차원 표현 공간으로 압축하려고 했기 때문이다. 이 네트워크는 필요한 정보 대부분을 4차원 표현 안에 구겨 넣었지만 전부는 넣지 못했다."
   ]
  },
  {
   "cell_type": "markdown",
   "metadata": {},
   "source": [
    "## 추가 실험\n",
    "\n",
    "* 더 크거나 작은 층을 사용해 보세요: 32개 유닛, 128개 유닛 등\n",
    "* 여기에서 두 개의 은닉층을 사용했습니다. 한 개의 은닉층이나 세 개의 은닉층을 사용해 보세요."
   ]
  },
  {
   "cell_type": "code",
   "execution_count": 26,
   "metadata": {},
   "outputs": [
    {
     "name": "stdout",
     "output_type": "stream",
     "text": [
      "Train on 7634 samples, validate on 1348 samples\n",
      "Epoch 1/20\n",
      "7634/7634 [==============================] - 3s 393us/step - loss: 1.5430 - accuracy: 0.6520 - val_loss: 1.2101 - val_accuracy: 0.7233\n",
      "Epoch 2/20\n",
      "7634/7634 [==============================] - 3s 369us/step - loss: 0.8269 - accuracy: 0.8161 - val_loss: 1.0179 - val_accuracy: 0.7619\n",
      "Epoch 3/20\n",
      "7634/7634 [==============================] - 3s 378us/step - loss: 0.5098 - accuracy: 0.8826 - val_loss: 0.9649 - val_accuracy: 0.7945\n",
      "Epoch 4/20\n",
      "7634/7634 [==============================] - 3s 378us/step - loss: 0.3303 - accuracy: 0.9266 - val_loss: 1.0617 - val_accuracy: 0.7930\n",
      "Epoch 5/20\n",
      "7634/7634 [==============================] - 3s 367us/step - loss: 0.2417 - accuracy: 0.9442 - val_loss: 1.1464 - val_accuracy: 0.7774\n",
      "Epoch 6/20\n",
      "7634/7634 [==============================] - 3s 371us/step - loss: 0.1966 - accuracy: 0.9527 - val_loss: 1.1051 - val_accuracy: 0.8064\n",
      "Epoch 7/20\n",
      "7634/7634 [==============================] - 3s 375us/step - loss: 0.1672 - accuracy: 0.9560 - val_loss: 1.2373 - val_accuracy: 0.7990\n",
      "Epoch 8/20\n",
      "7634/7634 [==============================] - 3s 368us/step - loss: 0.1535 - accuracy: 0.9543 - val_loss: 1.3067 - val_accuracy: 0.7901\n",
      "Epoch 9/20\n",
      "7634/7634 [==============================] - 3s 372us/step - loss: 0.1369 - accuracy: 0.9572 - val_loss: 1.3694 - val_accuracy: 0.7923\n",
      "Epoch 10/20\n",
      "7634/7634 [==============================] - 3s 390us/step - loss: 0.1255 - accuracy: 0.9566 - val_loss: 1.3831 - val_accuracy: 0.7804\n",
      "Epoch 11/20\n",
      "7634/7634 [==============================] - 3s 373us/step - loss: 0.1190 - accuracy: 0.9582 - val_loss: 1.4081 - val_accuracy: 0.7975\n",
      "Epoch 12/20\n",
      "7634/7634 [==============================] - 3s 389us/step - loss: 0.1082 - accuracy: 0.9593 - val_loss: 1.5266 - val_accuracy: 0.7782\n",
      "Epoch 13/20\n",
      "7634/7634 [==============================] - 3s 332us/step - loss: 0.1035 - accuracy: 0.9586 - val_loss: 1.5482 - val_accuracy: 0.7893\n",
      "Epoch 14/20\n",
      "7634/7634 [==============================] - 3s 355us/step - loss: 0.0990 - accuracy: 0.9587 - val_loss: 1.6292 - val_accuracy: 0.7826\n",
      "Epoch 15/20\n",
      "7634/7634 [==============================] - 3s 362us/step - loss: 0.0962 - accuracy: 0.9612 - val_loss: 1.5429 - val_accuracy: 0.7953\n",
      "Epoch 16/20\n",
      "7634/7634 [==============================] - 3s 355us/step - loss: 0.0929 - accuracy: 0.9598 - val_loss: 1.8103 - val_accuracy: 0.7834\n",
      "Epoch 17/20\n",
      "7634/7634 [==============================] - 3s 367us/step - loss: 0.0880 - accuracy: 0.9599 - val_loss: 1.7747 - val_accuracy: 0.7745\n",
      "Epoch 18/20\n",
      "7634/7634 [==============================] - 3s 374us/step - loss: 0.0845 - accuracy: 0.9600 - val_loss: 1.8416 - val_accuracy: 0.7826\n",
      "Epoch 19/20\n",
      "7634/7634 [==============================] - 3s 365us/step - loss: 0.0803 - accuracy: 0.9606 - val_loss: 1.8245 - val_accuracy: 0.7782\n",
      "Epoch 20/20\n",
      "7634/7634 [==============================] - 3s 374us/step - loss: 0.0786 - accuracy: 0.9600 - val_loss: 1.8286 - val_accuracy: 0.7886\n",
      "2246/2246 [==============================] - 0s 186us/step\n",
      "[2.0120899133775665, 0.7769367694854736]\n"
     ]
    }
   ],
   "source": [
    "model = models.Sequential()\n",
    "model.add(layers.Dense(64, activation='relu', input_shape=(10000,)))\n",
    "model.add(layers.Dense(128, activation='relu'))\n",
    "model.add(layers.Dense(128, activation='relu'))\n",
    "model.add(layers.Dense(46, activation='softmax'))\n",
    "\n",
    "model.compile(optimizer='rmsprop', loss='categorical_crossentropy',  metrics=['accuracy'])\n",
    "model.fit(x_train, y_train, epochs=20, batch_size=64, validation_data=(x_val, y_val))\n",
    "results = model.evaluate(x_test, test_labels)\n",
    "print(results)"
   ]
  },
  {
   "cell_type": "markdown",
   "metadata": {},
   "source": [
    "#### 하나의 층이 추가되었더니 정확도가 약 77.6% 까지 올라갔다."
   ]
  },
  {
   "cell_type": "markdown",
   "metadata": {},
   "source": [
    "## 정리\n",
    "\n",
    "다음은 이 예제에서 배운 것들입니다.\n",
    "\n",
    "* N개의 클래스로 데이터 포인트를 분류하려면 네트워크의 마지막 `Dense` 층의 크기는 **N**이어야 합니다.\n",
    "* 단일 레이블, 다중 분류 문제에서는 N개의 클래스에 대한 확률 분포를 출력하기 위해 **`softmax`** 활성화 함수를 사용해야 합니다.\n",
    "* 이런 문제에는 항상 범주형 **크로스엔트로피**를 사용해야 합니다. 이 함수는 모델이 출력한 확률 분포와 타깃 분포 사이의 거리를 최소화합니다.\n",
    "* 다중 분류에서 레이블을 다루는 **두 가지 방법**이 있습니다.\n",
    "\n",
    "    * 레이블을 범주형 인코딩(또는 원-핫 인코딩)으로 인코딩하고 `categorical_crossentropy` 손실 함수를 사용합니다.\n",
    "    * 레이블을 정수로 인코딩하고 `sparse_categorical_crossentropy` 손실 함수를 사용합니다.\n",
    "    \n",
    "* 많은 수의 범주를 분류할 때 중간층의 크기가 너무 작아 네트워크에 **정보의 병목**이 생기지 않도록 해야 합니다."
   ]
  },
  {
   "cell_type": "code",
   "execution_count": null,
   "metadata": {},
   "outputs": [],
   "source": []
  }
 ],
 "metadata": {
  "kernelspec": {
   "display_name": "Python 3",
   "language": "python",
   "name": "python3"
  },
  "language_info": {
   "codemirror_mode": {
    "name": "ipython",
    "version": 3
   },
   "file_extension": ".py",
   "mimetype": "text/x-python",
   "name": "python",
   "nbconvert_exporter": "python",
   "pygments_lexer": "ipython3",
   "version": "3.7.4"
  }
 },
 "nbformat": 4,
 "nbformat_minor": 2
}
