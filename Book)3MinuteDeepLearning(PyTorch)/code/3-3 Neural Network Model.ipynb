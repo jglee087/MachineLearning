{
 "cells": [
  {
   "cell_type": "markdown",
   "metadata": {},
   "source": [
    "# 3-3 Neural Network Model"
   ]
  },
  {
   "cell_type": "code",
   "execution_count": 1,
   "metadata": {},
   "outputs": [],
   "source": [
    "import torch\n",
    "import numpy as np\n",
    "from sklearn.datasets import make_blobs\n",
    "import matplotlib.pyplot as plt\n",
    "import torch.nn.functional as F"
   ]
  },
  {
   "cell_type": "markdown",
   "metadata": {},
   "source": [
    "### 학습과 평가에 사용할 데이터셋을 생성\n",
    "사이킷런의 make_blobs() 함수를 이용하여 데이터를 2차원 벡터 형태로 만들었다.  \n",
    "학습 데이터셋에는 80개, 테스트 데이터셋에는 20개의 2차원 벡터 데이터로 만들었다.  \n",
    "\n",
    "이 데이터셋은 4개의 클러스터를 만들었다."
   ]
  },
  {
   "cell_type": "code",
   "execution_count": 2,
   "metadata": {},
   "outputs": [],
   "source": [
    "n_dim =2\n",
    "x_train, y_train = make_blobs(n_samples=80, n_features=n_dim, centers=[ [1,1], [-1,-1], [1,-1], [-1,1] ],\n",
    "                              shuffle = True, cluster_std=0.2)\n",
    "x_test, y_test = make_blobs(n_samples=20, n_features=n_dim, centers=[ [1,1], [-1,-1], [1,-1], [-1,1] ],\n",
    "                              shuffle = True, cluster_std=0.2)"
   ]
  },
  {
   "cell_type": "markdown",
   "metadata": {},
   "source": [
    "### Label 설정"
   ]
  },
  {
   "cell_type": "code",
   "execution_count": 3,
   "metadata": {},
   "outputs": [],
   "source": [
    "def label_map(y_, from_, to_):\n",
    "    y=np.copy(y_)\n",
    "    for f in from_:\n",
    "        y[y_ ==f] = to_\n",
    "    return y\n",
    "\n",
    "y_train = label_map(y_train, [0,1], 0)\n",
    "y_train = label_map(y_train, [2,3], 1)\n",
    "y_test = label_map(y_test, [0,1], 0)\n",
    "y_test = label_map(y_test, [2,3], 1)\n"
   ]
  },
  {
   "cell_type": "markdown",
   "metadata": {},
   "source": [
    "### 데이터의 형태 시각화"
   ]
  },
  {
   "cell_type": "code",
   "execution_count": 4,
   "metadata": {},
   "outputs": [
    {
     "data": {
      "image/png": "[encoded data removed]",
      "text/plain": [
       "<Figure size 432x288 with 1 Axes>"
      ]
     },
     "metadata": {
      "needs_background": "light"
     },
     "output_type": "display_data"
    }
   ],
   "source": [
    "def vis_data(x,y = None, c='r'):\n",
    "    if y is None:\n",
    "        y=[None]*len(x)\n",
    "    for x_, y_ in zip(x,y):\n",
    "        if y_ is None:\n",
    "            plt.plot(x_[0],x_[1], '*', markerfacecolor='none', markerdgecolor=c)\n",
    "        else:\n",
    "            plt.plot(x_[0],x_[1], c+'o' if y_ == 0 else c+'+')\n",
    "plt.figure()\n",
    "vis_data(x_train, y_train, c='r')\n",
    "plt.show()"
   ]
  },
  {
   "cell_type": "markdown",
   "metadata": {},
   "source": [
    "넘파이 형식 데이터를 파이토치 텐서로 변경"
   ]
  },
  {
   "cell_type": "code",
   "execution_count": 5,
   "metadata": {},
   "outputs": [],
   "source": [
    "x_train = torch.FloatTensor(x_train)\n",
    "x_test = torch.FloatTensor(x_test)\n",
    "y_train = torch.FloatTensor(y_train)\n",
    "y_test = torch.FloatTensor(y_test)"
   ]
  },
  {
   "cell_type": "code",
   "execution_count": null,
   "metadata": {},
   "outputs": [],
   "source": []
  },
  {
   "cell_type": "code",
   "execution_count": 6,
   "metadata": {},
   "outputs": [],
   "source": [
    "class NeuralNet(torch.nn.Module):\n",
    "    \n",
    "    def __init__(self, input_size, hidden_size):\n",
    "        super(NeuralNet, self).__init__()\n",
    "        self.input_size= input_size\n",
    "        self.hidden_size= hidden_size\n",
    "        \n",
    "        self.linear_1 = torch.nn.Linear(self.input_size, self.hidden_size)\n",
    "        self.relu = torch.nn.ReLU()\n",
    "        self.linear_2 = torch.nn.Linear(self.hidden_size, 1)\n",
    "        self.sigmoid = torch.nn.Sigmoid()\n",
    "    \n",
    "    def forward(self, input_tensor):\n",
    "        linear1 = self.linear_1(input_tensor)\n",
    "        relu = self.relu(linear1)\n",
    "        linear2 = self.linear_2(relu)\n",
    "        output = self.sigmoid(linear2)\n",
    "        \n",
    "        return output       "
   ]
  },
  {
   "cell_type": "code",
   "execution_count": 7,
   "metadata": {},
   "outputs": [],
   "source": [
    "model = NeuralNet(2,5)\n",
    "learning_rate = 0.03\n",
    "criterion = torch.nn.BCELoss()\n",
    "epochs=3600\n",
    "optimizer = torch.optim.SGD(model.parameters(), lr=learning_rate)"
   ]
  },
  {
   "cell_type": "code",
   "execution_count": 8,
   "metadata": {},
   "outputs": [
    {
     "name": "stdout",
     "output_type": "stream",
     "text": [
      "Before Training, test loss is 0.7080998420715332\n"
     ]
    }
   ],
   "source": [
    "model.eval()\n",
    "test_loss_before = criterion(model(x_test).squeeze(), y_test)\n",
    "print(\"Before Training, test loss is {}\".format(test_loss_before.item()))"
   ]
  },
  {
   "cell_type": "code",
   "execution_count": 9,
   "metadata": {},
   "outputs": [
    {
     "name": "stdout",
     "output_type": "stream",
     "text": [
      "Train loss at 0 is 0.7107168436050415\n",
      "Train loss at 400 is 0.4363853931427002\n",
      "Train loss at 800 is 0.2125815451145172\n",
      "Train loss at 1200 is 0.10976799577474594\n",
      "Train loss at 1600 is 0.0690067857503891\n",
      "Train loss at 2000 is 0.049167413264513016\n",
      "Train loss at 2400 is 0.037683725357055664\n",
      "Train loss at 2800 is 0.030308391898870468\n",
      "Train loss at 3200 is 0.025223230943083763\n"
     ]
    }
   ],
   "source": [
    "for epoch in range(epochs):\n",
    "    model.train()\n",
    "    optimizer.zero_grad()\n",
    "    train_output = model(x_train)\n",
    "    train_loss = criterion(train_output.squeeze(), y_train)\n",
    "    if epoch % 400 == 0:\n",
    "        print(\"Train loss at {} is {}\".format(epoch, train_loss.item()))\n",
    "    train_loss.backward()\n",
    "    optimizer.step()\n",
    "    "
   ]
  },
  {
   "cell_type": "code",
   "execution_count": 10,
   "metadata": {},
   "outputs": [
    {
     "name": "stdout",
     "output_type": "stream",
     "text": [
      "After Training, test loss is 0.0184573195874691\n"
     ]
    }
   ],
   "source": [
    "model.eval()\n",
    "test_loss =criterion(model(x_test).squeeze(), y_test)\n",
    "print(\"After Training, test loss is {}\".format(test_loss.item()))"
   ]
  },
  {
   "cell_type": "code",
   "execution_count": 11,
   "metadata": {},
   "outputs": [
    {
     "name": "stdout",
     "output_type": "stream",
     "text": [
      "state_dict format of the model: OrderedDict([('linear_1.weight', tensor([[ 0.3708, -0.4736],\n",
      "        [ 0.5171, -0.3426],\n",
      "        [-1.4676, -2.2531],\n",
      "        [ 2.0331,  0.7855],\n",
      "        [ 1.8540, -1.9442]])), ('linear_1.bias', tensor([ 0.0911, -0.2750, -0.2345,  0.7581, -0.3856])), ('linear_2.weight', tensor([[ 0.2320,  0.3936, -2.5239, -2.2006,  2.5563]])), ('linear_2.bias', tensor([2.8104]))])\n"
     ]
    }
   ],
   "source": [
    "torch.save(model.state_dict(), './model.pt')\n",
    "print(\"state_dict format of the model: {}\".format(model.state_dict()))"
   ]
  },
  {
   "cell_type": "code",
   "execution_count": 13,
   "metadata": {},
   "outputs": [
    {
     "name": "stdout",
     "output_type": "stream",
     "text": [
      "벡터 [-1, 1]이 레이블 1을 가질 확률은 0.9432337880134583\n"
     ]
    }
   ],
   "source": [
    "new_model = NeuralNet(2,5)\n",
    "new_model.load_state_dict(torch.load('./model.pt'))\n",
    "new_model.eval()\n",
    "print(\"벡터 [-1, 1]이 레이블 1을 가질 확률은 {}\".format(new_model(torch.FloatTensor([-1,1])).item()))"
   ]
  },
  {
   "cell_type": "code",
   "execution_count": null,
   "metadata": {},
   "outputs": [],
   "source": []
  }
 ],
 "metadata": {
  "kernelspec": {
   "display_name": "Python 3",
   "language": "python",
   "name": "python3"
  },
  "language_info": {
   "codemirror_mode": {
    "name": "ipython",
    "version": 3
   },
   "file_extension": ".py",
   "mimetype": "text/x-python",
   "name": "python",
   "nbconvert_exporter": "python",
   "pygments_lexer": "ipython3",
   "version": "3.7.4"
  }
 },
 "nbformat": 4,
 "nbformat_minor": 2
}
